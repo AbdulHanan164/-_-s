{
 "cells": [
  {
   "cell_type": "code",
   "execution_count": 4,
   "id": "40f70d5e",
   "metadata": {},
   "outputs": [
    {
     "name": "stdout",
     "output_type": "stream",
     "text": [
      "Enter the number of terms in the Fibonacci sequence: 10\n",
      "Enter the starting sequence (two integers separated by space): 1 5\n",
      "Fibonacci sequence up to 10 terms: [1, 5, 6, 11, 17, 28, 45, 73, 118, 191]\n"
     ]
    }
   ],
   "source": [
    "def fibonacci(n, start=(0, 1)):\n",
    "    \"\"\"\n",
    "    Generate a Fibonacci sequence up to a specified number of terms with optional starting sequence.\n",
    "\n",
    "    Parameters:\n",
    "    - n (int): Number of terms in the Fibonacci sequence.\n",
    "    - start (tuple, optional): Starting sequence for the Fibonacci sequence. Default is (0, 1).\n",
    "\n",
    "    Returns:\n",
    "    - list: Fibonacci sequence up to n terms.\n",
    "\n",
    "    Raises:\n",
    "    - ValueError: If n is not a positive integer or if start is not a tuple of two integers.\n",
    "    \"\"\"\n",
    "    if not isinstance(n, int) or n <= 0:\n",
    "        raise ValueError(\"Number of terms must be a positive integer\")\n",
    "    if not isinstance(start, (list, tuple)) or len(start) != 2:\n",
    "        raise ValueError(\"Start must be a list or tuple of two integers\")\n",
    "\n",
    "    fib_sequence = list(start)\n",
    "    while len(fib_sequence) < n:\n",
    "        fib_sequence.append(fib_sequence[-1] + fib_sequence[-2])\n",
    "    return fib_sequence\n",
    "\n",
    "# Example usage:\n",
    "try:\n",
    "    num_terms = int(input(\"Enter the number of terms in the Fibonacci sequence: \"))\n",
    "    start_sequence = tuple(map(int, input(\"Enter the starting sequence (two integers separated by space): \").split()))\n",
    "    fib_sequence = fibonacci(num_terms, start_sequence)\n",
    "    print(\"Fibonacci sequence up to\", num_terms, \"terms:\", fib_sequence)\n",
    "except ValueError as ve:\n",
    "    print(\"Error:\", ve)\n"
   ]
  },
  {
   "cell_type": "code",
   "execution_count": null,
   "id": "7714d96a",
   "metadata": {},
   "outputs": [],
   "source": []
  }
 ],
 "metadata": {
  "kernelspec": {
   "display_name": "Python 3 (ipykernel)",
   "language": "python",
   "name": "python3"
  },
  "language_info": {
   "codemirror_mode": {
    "name": "ipython",
    "version": 3
   },
   "file_extension": ".py",
   "mimetype": "text/x-python",
   "name": "python",
   "nbconvert_exporter": "python",
   "pygments_lexer": "ipython3",
   "version": "3.11.4"
  }
 },
 "nbformat": 4,
 "nbformat_minor": 5
}
